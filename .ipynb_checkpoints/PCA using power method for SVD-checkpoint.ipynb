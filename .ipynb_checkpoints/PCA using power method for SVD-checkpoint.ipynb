{
 "cells": [
  {
   "cell_type": "code",
   "execution_count": 1,
   "metadata": {},
   "outputs": [],
   "source": [
    "import numpy as np\n",
    "from math import sqrt\n",
    "from random import normalvariate\n",
    "from numpy.linalg import svd\n",
    "from numpy.linalg import norm"
   ]
  },
  {
   "cell_type": "code",
   "execution_count": 2,
   "metadata": {},
   "outputs": [],
   "source": [
    "def fro_norm(x):\n",
    "    return sqrt((x**2).sum().astype('float64'))"
   ]
  },
  {
   "cell_type": "markdown",
   "metadata": {},
   "source": [
    "Test Frobenius Norm."
   ]
  },
  {
   "cell_type": "code",
   "execution_count": 3,
   "metadata": {},
   "outputs": [
    {
     "name": "stdout",
     "output_type": "stream",
     "text": [
      "[[1 2 3 4]\n",
      " [4 3 2 1]]\n",
      "7.74596669241\n"
     ]
    }
   ],
   "source": [
    "a = np.array([[1,2,3,4], [4,3,2,1]])\n",
    "print a\n",
    "print fro_norm(a)"
   ]
  },
  {
   "cell_type": "code",
   "execution_count": 4,
   "metadata": {},
   "outputs": [],
   "source": [
    "def normalize_vec(x):\n",
    "    return x / sqrt((x**2).sum())"
   ]
  },
  {
   "cell_type": "markdown",
   "metadata": {},
   "source": [
    "Test Normalizing Vector."
   ]
  },
  {
   "cell_type": "code",
   "execution_count": 5,
   "metadata": {},
   "outputs": [
    {
     "name": "stdout",
     "output_type": "stream",
     "text": [
      "1.0\n"
     ]
    }
   ],
   "source": [
    "a = np.array([3,4,5,6])\n",
    "b = normalize_vec(a)\n",
    "print b.dot(b)"
   ]
  },
  {
   "cell_type": "code",
   "execution_count": 6,
   "metadata": {},
   "outputs": [],
   "source": [
    "def generateUnitVector(n):\n",
    "    return normalize_vec(np.arange(n))"
   ]
  },
  {
   "cell_type": "code",
   "execution_count": 7,
   "metadata": {},
   "outputs": [
    {
     "name": "stdout",
     "output_type": "stream",
     "text": [
      "9.2736184955\n",
      "9.2736184955\n"
     ]
    }
   ],
   "source": [
    "def randomUnitVector(n):\n",
    "    unnormalized = [normalvariate(0, 1) for _ in range(n)]\n",
    "    theNorm = sqrt(sum(x * x for x in unnormalized))\n",
    "    return [x / theNorm for x in unnormalized]\n",
    "print norm(a)\n",
    "print fro_norm(a)"
   ]
  },
  {
   "cell_type": "markdown",
   "metadata": {},
   "source": [
    "Core of power method for SVD decomposition."
   ]
  },
  {
   "cell_type": "code",
   "execution_count": 40,
   "metadata": {},
   "outputs": [],
   "source": [
    "def svd_1d(A, epsilon=2**(-11)):\n",
    "    n, m = A.shape\n",
    "    x = generateUnitVector(min(n,m))  # Due to hardware constraints\n",
    "    \n",
    "    lastV = None\n",
    "    currentV = x\n",
    "    \n",
    "    if n > m:\n",
    "        B = np.dot(A.T, A)\n",
    "    else:\n",
    "        B = np.dot(A, A.T)\n",
    "        \n",
    "    iterations = 0\n",
    "    while True:\n",
    "        #print iterations\n",
    "        iterations += 1\n",
    "        lastV = currentV\n",
    "        currentV = np.dot(B, lastV)\n",
    "        currentV = currentV / fro_norm(currentV)\n",
    "        \n",
    "        if abs(np.dot(currentV, lastV)) > 1 - epsilon:\n",
    "            print(\"converged in {} iterations!\".format(iterations))\n",
    "            return currentV\n"
   ]
  },
  {
   "cell_type": "code",
   "execution_count": 43,
   "metadata": {},
   "outputs": [],
   "source": [
    "def _svd(A, k=None, epsilon=2**(-13)):\n",
    "    '''\n",
    "        Compute the singular value decomposition of a matrix A\n",
    "        using the power method. A is the input matrix, and k\n",
    "        is the number of singular values you wish to compute.\n",
    "        If k is None, this computes the full-rank decomposition.\n",
    "    '''\n",
    "    A = np.array(A, dtype=float)\n",
    "    n, m = A.shape\n",
    "    svdSoFar = []\n",
    "    if k is None:\n",
    "        k = min(n, m)\n",
    "\n",
    "    for i in range(k):\n",
    "        matrixFor1D = A.copy()\n",
    "\n",
    "        for singularValue, u, v in svdSoFar[:i]:\n",
    "            matrixFor1D -= singularValue * np.outer(u, v)\n",
    "        if n >= m:\n",
    "            v = svd_1d(matrixFor1D, epsilon=epsilon)  # next singular vector\n",
    "            print A.shape, v.shape\n",
    "            u_unnormalized = np.dot(A, v)\n",
    "            sigma = fro_norm(u_unnormalized)  # next singular value\n",
    "            u = u_unnormalized / sigma\n",
    "        else:\n",
    "            u = svd_1d(matrixFor1D, epsilon=epsilon)  # next singular vector\n",
    "            v_unnormalized = np.dot(A.T, u)\n",
    "            sigma = fro_norm(v_unnormalized)  # next singular value\n",
    "            v = v_unnormalized / sigma\n",
    "\n",
    "        svdSoFar.append((sigma, u, v))\n",
    "\n",
    "    singularValues, us, vs = [np.array(x) for x in zip(*svdSoFar)]\n",
    "    return singularValues, us.T, vs"
   ]
  },
  {
   "cell_type": "code",
   "execution_count": 44,
   "metadata": {},
   "outputs": [
    {
     "name": "stdout",
     "output_type": "stream",
     "text": [
      "(8, 3)"
     ]
    },
    {
     "ename": "UnboundLocalError",
     "evalue": "local variable 'v' referenced before assignment",
     "output_type": "error",
     "traceback": [
      "\u001b[0;31m---------------------------------------------------------------------------\u001b[0m",
      "\u001b[0;31mUnboundLocalError\u001b[0m                         Traceback (most recent call last)",
      "\u001b[0;32m<ipython-input-44-c0e31e47e95c>\u001b[0m in \u001b[0;36m<module>\u001b[0;34m()\u001b[0m\n\u001b[1;32m     12\u001b[0m         \u001b[0;34m[\u001b[0m\u001b[0;36m2\u001b[0m\u001b[0;34m,\u001b[0m \u001b[0;36m2\u001b[0m\u001b[0;34m,\u001b[0m \u001b[0;36m5\u001b[0m\u001b[0;34m]\u001b[0m\u001b[0;34m,\u001b[0m\u001b[0;34m\u001b[0m\u001b[0m\n\u001b[1;32m     13\u001b[0m     ], dtype='float64')\n\u001b[0;32m---> 14\u001b[0;31m \u001b[0;34m[\u001b[0m\u001b[0ms_\u001b[0m\u001b[0;34m,\u001b[0m \u001b[0mu_\u001b[0m\u001b[0;34m,\u001b[0m \u001b[0mv_\u001b[0m\u001b[0;34m]\u001b[0m \u001b[0;34m=\u001b[0m \u001b[0m_svd\u001b[0m\u001b[0;34m(\u001b[0m\u001b[0mmovieRatings\u001b[0m\u001b[0;34m)\u001b[0m\u001b[0;34m\u001b[0m\u001b[0m\n\u001b[0m\u001b[1;32m     15\u001b[0m \u001b[0;34m[\u001b[0m\u001b[0mu\u001b[0m\u001b[0;34m,\u001b[0m \u001b[0ms\u001b[0m\u001b[0;34m,\u001b[0m \u001b[0mv\u001b[0m\u001b[0;34m]\u001b[0m \u001b[0;34m=\u001b[0m \u001b[0msvd\u001b[0m\u001b[0;34m(\u001b[0m\u001b[0mmovieRatings\u001b[0m\u001b[0;34m)\u001b[0m\u001b[0;34m\u001b[0m\u001b[0m\n",
      "\u001b[0;32m<ipython-input-43-97dec437c29a>\u001b[0m in \u001b[0;36m_svd\u001b[0;34m(A, k, epsilon)\u001b[0m\n\u001b[1;32m     17\u001b[0m         \u001b[0;32mfor\u001b[0m \u001b[0msingularValue\u001b[0m\u001b[0;34m,\u001b[0m \u001b[0mu\u001b[0m\u001b[0;34m,\u001b[0m \u001b[0mv\u001b[0m \u001b[0;32min\u001b[0m \u001b[0msvdSoFar\u001b[0m\u001b[0;34m[\u001b[0m\u001b[0;34m:\u001b[0m\u001b[0mi\u001b[0m\u001b[0;34m]\u001b[0m\u001b[0;34m:\u001b[0m\u001b[0;34m\u001b[0m\u001b[0m\n\u001b[1;32m     18\u001b[0m             \u001b[0mmatrixFor1D\u001b[0m \u001b[0;34m-=\u001b[0m \u001b[0msingularValue\u001b[0m \u001b[0;34m*\u001b[0m \u001b[0mnp\u001b[0m\u001b[0;34m.\u001b[0m\u001b[0mouter\u001b[0m\u001b[0;34m(\u001b[0m\u001b[0mu\u001b[0m\u001b[0;34m,\u001b[0m \u001b[0mv\u001b[0m\u001b[0;34m)\u001b[0m\u001b[0;34m\u001b[0m\u001b[0m\n\u001b[0;32m---> 19\u001b[0;31m         \u001b[0;32mprint\u001b[0m \u001b[0mA\u001b[0m\u001b[0;34m.\u001b[0m\u001b[0mshape\u001b[0m\u001b[0;34m,\u001b[0m \u001b[0mv\u001b[0m\u001b[0;34m.\u001b[0m\u001b[0mshape\u001b[0m\u001b[0;34m\u001b[0m\u001b[0m\n\u001b[0m\u001b[1;32m     20\u001b[0m         \u001b[0;32mif\u001b[0m \u001b[0mn\u001b[0m \u001b[0;34m>=\u001b[0m \u001b[0mm\u001b[0m\u001b[0;34m:\u001b[0m\u001b[0;34m\u001b[0m\u001b[0m\n\u001b[1;32m     21\u001b[0m             \u001b[0mv\u001b[0m \u001b[0;34m=\u001b[0m \u001b[0msvd_1d\u001b[0m\u001b[0;34m(\u001b[0m\u001b[0mmatrixFor1D\u001b[0m\u001b[0;34m,\u001b[0m \u001b[0mepsilon\u001b[0m\u001b[0;34m=\u001b[0m\u001b[0mepsilon\u001b[0m\u001b[0;34m)\u001b[0m  \u001b[0;31m# next singular vector\u001b[0m\u001b[0;34m\u001b[0m\u001b[0m\n",
      "\u001b[0;31mUnboundLocalError\u001b[0m: local variable 'v' referenced before assignment"
     ]
    }
   ],
   "source": [
    "#a = np.array([[1,2,3,4], [4,3,2,1], [5,3,2,1]])\n",
    "#b = svd_1d(a)\n",
    "#b.dot(b)\n",
    "movieRatings = np.array([\n",
    "        [2, 5, 3],\n",
    "        [1, 2, 1],\n",
    "        [4, 1, 1],\n",
    "        [3, 5, 2],\n",
    "        [5, 3, 1],\n",
    "        [4, 5, 5],\n",
    "        [2, 4, 2],\n",
    "        [2, 2, 5],\n",
    "    ], dtype='float64')\n",
    "[s_, u_, v_] = _svd(movieRatings)\n",
    "[u, s, v] = svd(movieRatings)"
   ]
  },
  {
   "cell_type": "code",
   "execution_count": 35,
   "metadata": {},
   "outputs": [
    {
     "name": "stdout",
     "output_type": "stream",
     "text": [
      "[[ 0.54152224  0.67073924  0.50681607]\n",
      " [-0.74511508  0.10376405  0.65881449]\n",
      " [ 0.38930345 -0.734399    0.55596846]]\n",
      "[[-0.54184808 -0.67070995 -0.50650649]\n",
      " [-0.75152295  0.11680911  0.64928336]\n",
      " [ 0.37631623 -0.73246419  0.56734672]]\n"
     ]
    }
   ],
   "source": [
    "print v_\n",
    "print v"
   ]
  },
  {
   "cell_type": "code",
   "execution_count": 36,
   "metadata": {},
   "outputs": [
    {
     "name": "stdout",
     "output_type": "stream",
     "text": [
      "(8, 3)\n",
      "(8, 8)\n"
     ]
    }
   ],
   "source": [
    "print u_.shape\n",
    "print u.shape"
   ]
  },
  {
   "cell_type": "code",
   "execution_count": 37,
   "metadata": {},
   "outputs": [
    {
     "name": "stdout",
     "output_type": "stream",
     "text": [
      "[ 15.09626776   4.30033177   3.40732248]\n",
      "[ 15.09626916   4.30056855   3.40701739]\n"
     ]
    }
   ],
   "source": [
    "print s_\n",
    "print s"
   ]
  },
  {
   "cell_type": "code",
   "execution_count": null,
   "metadata": {},
   "outputs": [],
   "source": []
  },
  {
   "cell_type": "code",
   "execution_count": null,
   "metadata": {},
   "outputs": [],
   "source": []
  }
 ],
 "metadata": {
  "kernelspec": {
   "display_name": "Python 2",
   "language": "python",
   "name": "python2"
  },
  "language_info": {
   "codemirror_mode": {
    "name": "ipython",
    "version": 2
   },
   "file_extension": ".py",
   "mimetype": "text/x-python",
   "name": "python",
   "nbconvert_exporter": "python",
   "pygments_lexer": "ipython2",
   "version": "2.7.12"
  }
 },
 "nbformat": 4,
 "nbformat_minor": 2
}
